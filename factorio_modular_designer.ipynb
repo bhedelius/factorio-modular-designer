{
 "cells": [
  {
   "cell_type": "code",
   "execution_count": 1,
   "id": "2c28369d",
   "metadata": {},
   "outputs": [],
   "source": [
    "import json\n",
    "import re\n",
    "import tempfile\n",
    "from collections import defaultdict\n",
    "from dataclasses import dataclass, field\n",
    "from io import BytesIO\n",
    "from pathlib import Path\n",
    "from typing import Literal\n",
    "from urllib.request import urlopen\n",
    "\n",
    "from graphviz import Digraph\n",
    "from PIL import Image, ImageDraw, ImageEnhance, ImageFont, ImageFilter\n",
    "from slpp import slpp as lua"
   ]
  },
  {
   "cell_type": "code",
   "execution_count": 2,
   "id": "359bfd14",
   "metadata": {},
   "outputs": [],
   "source": [
    "OUTPUT_DIR_PATH = Path(\"output\")\n",
    "FONT_PATH = \"/usr/share/fonts/truetype/dejavu/DejaVuSans-Bold.ttf\""
   ]
  },
  {
   "cell_type": "code",
   "execution_count": 3,
   "id": "152ee2ad",
   "metadata": {},
   "outputs": [],
   "source": [
    "# Configuration for the Factorio game\n",
    "DIFFICULTY = \"normal\"\n",
    "\n",
    "# Define the machines to use\n",
    "CRAFTING_MACHINE = \"assembling-machine-3\"\n",
    "SMELTING_MACHINE = \"electric-furnace\"\n",
    "\n",
    "SMELTING_SPEED = {\n",
    "    \"stone-furnace\": 1.0,\n",
    "    \"steel-furnace\": 2.0,\n",
    "    \"electric-furnace\": 2.0,\n",
    "}.get(SMELTING_MACHINE, 2.0)\n",
    "\n",
    "CRAFTING_SPEED = {\n",
    "    \"assembling-machine-1\": 0.5,\n",
    "    \"assembling-machine-2\": 0.75,\n",
    "    \"assembling-machine-3\": 1.25,\n",
    "}.get(CRAFTING_MACHINE, 1.25)\n",
    "\n",
    "RECIPE_SPEEDS = {\n",
    "    \"advanced-crafting\": CRAFTING_SPEED,\n",
    "    \"crafting\": CRAFTING_SPEED,\n",
    "    \"crafting-with-fluid\": CRAFTING_SPEED,\n",
    "    \"smelting\": SMELTING_SPEED,\n",
    "}"
   ]
  },
  {
   "cell_type": "code",
   "execution_count": 4,
   "id": "c0436b9b",
   "metadata": {},
   "outputs": [],
   "source": [
    "# FATORIO DATA REPOSITORY\n",
    "FACTORIO_VERSION = \"2.0.71\"\n",
    "\n",
    "FACTORIO_DATA_PATH = Path(\"/mnt/c/Program Files (x86)/Steam/steamapps/common/Factorio/data\")\n",
    "FACTORIO_GITHUB_URL = f\"https://raw.githubusercontent.com/wube/factorio-data/refs/tags/{FACTORIO_VERSION}\"\n",
    "\n",
    "RECIPE_FILE_PATH = \"base/prototypes/recipe.lua\"\n",
    "ITEM_FILE_PATH = \"base/prototypes/item.lua\"\n",
    "FLUID_FILE_PATH = \"base/prototypes/fluid.lua\"\n",
    "EQUIPMENT_FILE_PATH = \"base/prototypes/equipment.lua\"\n",
    "\n",
    "def read_factorio_file(file_path: str, binary: bool = False) -> str | bytes:\n",
    "    \"\"\"\n",
    "    Returns the contents of a Factorio data file from local installation or GitHub.\n",
    "\n",
    "    Args:\n",
    "        file_path: relative path inside Factorio folder\n",
    "        binary: if True, returns bytes instead of a string\n",
    "\n",
    "    Returns:\n",
    "        str (text) or bytes (binary)\n",
    "    \"\"\"\n",
    "    file_path = file_path.replace(\"__base__\", \"base\")\n",
    "    # Try local installation first\n",
    "    local_path = FACTORIO_DATA_PATH / file_path\n",
    "    if local_path.exists():\n",
    "        if binary:\n",
    "            return local_path.read_bytes()\n",
    "        else:\n",
    "            return local_path.read_text(encoding=\"utf-8\")\n",
    "    \n",
    "    # Fallback to GitHub (only has text files)\n",
    "    url = f\"{FACTORIO_GITHUB_URL}/{file_path}\"\n",
    "    with urlopen(url) as response:\n",
    "        data = response.read()\n",
    "        if binary:\n",
    "            return data\n",
    "        return data.decode(\"utf-8\")\n",
    "\n",
    "def clean_factorio_lua(text: str) -> str:\n",
    "    \"\"\"Clean Factorio Lua file by removing comments and unnecessary parts.\"\"\"\n",
    "    # Remove multi-line comments\n",
    "    text = re.sub(r\"--\\[\\[.*?\\]\\]\", \"\", text, flags=re.DOTALL)\n",
    "    # Remove single-line comments\n",
    "    text = re.sub(r\"--.*\", \"\", text)\n",
    "    return text"
   ]
  },
  {
   "cell_type": "markdown",
   "id": "e549e782",
   "metadata": {},
   "source": [
    "# Clean recipes"
   ]
  },
  {
   "cell_type": "code",
   "execution_count": 5,
   "id": "7e9963ec",
   "metadata": {},
   "outputs": [
    {
     "name": "stdout",
     "output_type": "stream",
     "text": [
      "192\n"
     ]
    }
   ],
   "source": [
    "recipe_file_text = read_factorio_file(RECIPE_FILE_PATH)\n",
    "\n",
    "# Remove wrapper\n",
    "text = recipe_file_text.split(\"data:extend\\n(\",1)[1].removesuffix(\")\")\n",
    "text = clean_factorio_lua(text)\n",
    "raw_recipes = lua.decode(text)\n",
    "\n",
    "(OUTPUT_DIR_PATH / \"recipe.json\").write_text(json.dumps(raw_recipes, indent=2))\n",
    "\n",
    "print(len(raw_recipes))\n"
   ]
  },
  {
   "cell_type": "code",
   "execution_count": 6,
   "id": "eabd51a8",
   "metadata": {},
   "outputs": [
    {
     "name": "stdout",
     "output_type": "stream",
     "text": [
      "Skipping basic-oil-processing with different result name petroleum-gas\n",
      "Skipping advanced-oil-processing with multiple results\n",
      "Skipping coal-liquefaction with multiple results\n",
      "Skipping heavy-oil-cracking with different result name light-oil\n",
      "Skipping light-oil-cracking with different result name petroleum-gas\n",
      "Skipping solid-fuel-from-light-oil with different result name solid-fuel\n",
      "Skipping solid-fuel-from-petroleum-gas with different result name solid-fuel\n",
      "Skipping solid-fuel-from-heavy-oil with different result name solid-fuel\n",
      "Skipping uranium-processing with multiple results\n",
      "Skipping kovarex-enrichment-process with multiple results\n",
      "Skipping nuclear-fuel-reprocessing with different result name uranium-238\n"
     ]
    }
   ],
   "source": [
    "@dataclass\n",
    "class Recipe:\n",
    "    name: str\n",
    "    category: str = \"crafting\"\n",
    "    energy_required: float = 0.5\n",
    "    ingredients: dict[str, int] = field(default_factory=dict)\n",
    "    result_amount: float = 1\n",
    "\n",
    "    @property\n",
    "    def time_per_cycle(self) -> float:\n",
    "        \"\"\"Time per crafting cycle adjusted by machine speed.\"\"\"\n",
    "        return self.energy_required / RECIPE_SPEEDS.get(self.category, CRAFTING_SPEED)\n",
    "    \n",
    "    @property\n",
    "    def machine(self) -> str:\n",
    "        if \"crafting\" in self.category:\n",
    "            return CRAFTING_MACHINE\n",
    "        if self.category == \"smelting\":\n",
    "            return SMELTING_MACHINE\n",
    "        if self.category == \"oil-processing\":\n",
    "            return \"oil-refinery\"\n",
    "        if self.category == \"chemistry\":\n",
    "            return \"chemical-plant\"\n",
    "        if self.category == \"rocket-building\":\n",
    "            return \"rocket-silo\"\n",
    "        if self.category == \"centrifuging\":\n",
    "            return \"centrifuge\"\n",
    "        print(f\"Couldn't determine name for recipe {self.name} with category {self.category}\")\n",
    "\n",
    "recipes: dict[str, Recipe] = {}\n",
    "for raw_recipe in raw_recipes:\n",
    "    name = raw_recipe[\"name\"]\n",
    "    amount_dict = raw_recipe.get(DIFFICULTY, raw_recipe)\n",
    "\n",
    "    # Parse out the ingredients\n",
    "    ingredients: dict[str, int] = {}\n",
    "    raw_ingredients = amount_dict.get(\"ingredients\")\n",
    "    ingredients = {raw_ingredient[\"name\"]: raw_ingredient[\"amount\"] for raw_ingredient in raw_ingredients}\n",
    "\n",
    "    # Parse out the results\n",
    "    raw_results = amount_dict.get(\"results\")\n",
    "    if len(raw_results) != 1:\n",
    "        # Skip oil and uranium recipes for now\n",
    "        print(f\"Skipping {name} with multiple results\")\n",
    "        continue\n",
    "\n",
    "    raw_result_dict = next(iter(raw_results))\n",
    "    result_name = raw_result_dict[\"name\"]\n",
    "    result_amount = raw_result_dict[\"amount\"]\n",
    "    if result_name != name:\n",
    "        # Skip oil and uranium recipes for now\n",
    "        print(f\"Skipping {name} with different result name {result_name}\")\n",
    "        continue\n",
    "\n",
    "    recipes[name] = Recipe(\n",
    "        name=name,\n",
    "        category=raw_recipe.get(\"category\", \"crafting\"),\n",
    "        ingredients=ingredients,\n",
    "        energy_required=amount_dict.get(\"energy_required\", 0.5),\n",
    "        result_amount=result_amount,\n",
    "    )\n"
   ]
  },
  {
   "cell_type": "markdown",
   "id": "adb07be8",
   "metadata": {},
   "source": [
    "# Clean item, fluid, and equipment icon paths"
   ]
  },
  {
   "cell_type": "code",
   "execution_count": 7,
   "id": "575f3ddc",
   "metadata": {},
   "outputs": [
    {
     "data": {
      "text/plain": [
       "233"
      ]
     },
     "execution_count": 7,
     "metadata": {},
     "output_type": "execute_result"
    }
   ],
   "source": [
    "recipe_file_text = read_factorio_file(ITEM_FILE_PATH)\n",
    "\n",
    "# Remove wrapper\n",
    "text = recipe_file_text.split(\"data:extend\\n(\",1)[1].removesuffix(\")\\n\")\n",
    "text = clean_factorio_lua(text)\n",
    "raw_items = lua.decode(text)\n",
    "\n",
    "item_icon_paths: dict[str, str] = {\n",
    "    raw_item.get(\"name\"): raw_item.get(\"icon\")\n",
    "    for raw_item in raw_items\n",
    "}\n",
    "len(item_icon_paths)"
   ]
  },
  {
   "cell_type": "code",
   "execution_count": 8,
   "id": "e6b190ad",
   "metadata": {},
   "outputs": [
    {
     "data": {
      "text/plain": [
       "8"
      ]
     },
     "execution_count": 8,
     "metadata": {},
     "output_type": "execute_result"
    }
   ],
   "source": [
    "fluid_file_text = read_factorio_file(FLUID_FILE_PATH)\n",
    "\n",
    "# Remove wrapper\n",
    "text = fluid_file_text.split(\"data:extend(\",2)[2].removesuffix(\")\\n\")\n",
    "text = clean_factorio_lua(text)\n",
    "raw_fluids = lua.decode(text)\n",
    "\n",
    "fluid_icon_paths: dict[str, str] = {\n",
    "    raw_fluid.get(\"name\"): raw_fluid.get(\"icon\")\n",
    "    for raw_fluid in raw_fluids\n",
    "}\n",
    "len(fluid_icon_paths)"
   ]
  },
  {
   "cell_type": "code",
   "execution_count": null,
   "id": "2bd98e40",
   "metadata": {},
   "outputs": [
    {
     "data": {
      "text/plain": [
       "14"
      ]
     },
     "execution_count": 9,
     "metadata": {},
     "output_type": "execute_result"
    }
   ],
   "source": [
    "equipment_file_text = read_factorio_file(EQUIPMENT_FILE_PATH)\n",
    "\n",
    "# Remove wrapper\n",
    "text = equipment_file_text.split(\"data:extend(\",1)[1].removesuffix(\")\\n\")\n",
    "text = clean_factorio_lua(text)\n",
    "raw_equipments = lua.decode(text)\n",
    "\n",
    "equipment_icon_paths: dict[str, str] = {\n",
    "    raw_equipment.get(\"name\"): raw_equipment.get(\"icon\")\n",
    "    for raw_equipment in raw_equipments\n",
    "}\n",
    "len(equipment_icon_paths)"
   ]
  },
  {
   "cell_type": "code",
   "execution_count": 94,
   "id": "85828ede",
   "metadata": {},
   "outputs": [
    {
     "data": {
      "text/plain": [
       "'output/automation-science-pack_with_assembling-machine-3_12.5_10.png'"
      ]
     },
     "execution_count": 94,
     "metadata": {},
     "output_type": "execute_result"
    }
   ],
   "source": [
    "RESOLUTIONS = Literal[64, 32, 16, 8]\n",
    "\n",
    "def get_icon_file_path(product: str) -> str | None:\n",
    "    \"\"\"Get icon file path from local installation or GitHub.\"\"\"\n",
    "    return item_icon_paths.get(product) or fluid_icon_paths.get(product) or equipment_icon_paths.get(product)\n",
    "\n",
    "def read_icon_file(product: str, resolution: RESOLUTIONS=64) -> Image.Image | None:\n",
    "    \"\"\"Read icon file from local installation or GitHub.\"\"\"\n",
    "    icon_path = get_icon_file_path(product)\n",
    "    if not icon_path:\n",
    "        print(f\"No icon path found for product: {product}\")\n",
    "        return None\n",
    "    icon_bytes = read_factorio_file(icon_path, binary=True)\n",
    "    img = Image.open(BytesIO(icon_bytes))\n",
    "    if img.size != (120, 64):\n",
    "        raise ValueError(f\"Unexpected icon size for {product}: {img.size}\")\n",
    "    if resolution == 64:\n",
    "        return img.crop((0, 0, 64, 64)).convert(\"RGBA\")\n",
    "    elif resolution == 32:\n",
    "        return img.crop((64, 0, 64+32, 32)).convert(\"RGBA\")\n",
    "    elif resolution == 16:\n",
    "        return img.crop((64+32, 0, 64+32+16, 16))\n",
    "    elif resolution == 8:\n",
    "        return img.crop((64+32+16, 0, 64+32+16+8, 8))\n",
    "    else:\n",
    "        raise ValueError(f\"Unsupported resolution: {resolution}\")\n",
    "\n",
    "def create_product_image(\n",
    "        product: str,\n",
    "        machine: str | None,\n",
    "        production_rate: float,\n",
    "        machine_count: float,\n",
    "        save_dir: Path=OUTPUT_DIR_PATH,\n",
    ") -> str | None:\n",
    "    \"\"\"Create an image showing a product with its machine and production rate.\"\"\"\n",
    "    # Load images\n",
    "    machine_img = read_icon_file(machine, resolution=64) if machine else None\n",
    "    product_img = read_icon_file(product, resolution=64)\n",
    "\n",
    "    if product_img is None:\n",
    "        return None\n",
    "\n",
    "    if machine_count and machine_img:\n",
    "        # Upscale\n",
    "        image = machine_img.resize((128, 128), resample=Image.BICUBIC)\n",
    "        \n",
    "        # Create shadow\n",
    "        alpha = product_img.split()[3]\n",
    "        shadow = Image.new(\"RGBA\", product_img.size, (0, 0, 0, 255))\n",
    "        shadow.putalpha(alpha)\n",
    "\n",
    "        padding = 10\n",
    "        w, h = shadow.size\n",
    "        shadow_padded = Image.new(\"RGBA\", (w + padding * 2, h + padding * 2), (0, 0, 0, 0))\n",
    "        shadow_padded.paste(shadow, (0, 0), shadow)\n",
    "        shadow_padded = shadow_padded.filter(ImageFilter.GaussianBlur(radius=3))\n",
    "\n",
    "        # Combine images\n",
    "        image.paste(shadow_padded, (0,0), shadow_padded)\n",
    "        image.paste(product_img, (0, 0), product_img)\n",
    "        \n",
    "        quantity_text = f\"{machine_count:.3g}\"\n",
    "\n",
    "    else:\n",
    "        image = product_img.resize((128, 128), resample=Image.BICUBIC)\n",
    "        quantity_text = \"\"\n",
    "\n",
    "    # Draw text\n",
    "    draw = ImageDraw.Draw(image)\n",
    "    font = ImageFont.truetype(FONT_PATH, size=18)\n",
    "    draw = ImageDraw.Draw(image)\n",
    "    bbox = draw.textbbox((0, 0), quantity_text, font=font)\n",
    "    text_w_machine = bbox[2] - bbox[0]\n",
    "    text_h_machine = bbox[3] - bbox[1]\n",
    "    draw.text((125 - text_w_machine, 120 - text_h_machine), quantity_text, fill=\"white\", font=font, stroke_width=3, stroke_fill=\"black\")\n",
    "\n",
    "    production_text = f\"{production_rate:.3g}/s\"\n",
    "    bbox_prod = draw.textbbox((0, 0), production_text, font=font)\n",
    "    text_w_prod = bbox_prod[2] - bbox_prod[0]\n",
    "    draw.text((125-text_w_prod, 0), production_text, fill=(200, 200, 200, 255), font=font, stroke_width=3, stroke_fill=\"black\")\n",
    "\n",
    "    # Save\n",
    "    save_file = save_dir / f\"{product}_with_{machine}_{production_rate:.3g}_{quantity_text}.png\"  \n",
    "    image.save(save_file)\n",
    "    return str(save_file)\n",
    "\n",
    "create_product_image(\n",
    "    product=\"automation-science-pack\",\n",
    "    machine = \"assembling-machine-3\",\n",
    "    machine_count=10,\n",
    "    production_rate=12.5\n",
    ")"
   ]
  },
  {
   "cell_type": "markdown",
   "id": "03da5f51",
   "metadata": {},
   "source": [
    "# Create graph"
   ]
  },
  {
   "cell_type": "code",
   "execution_count": 95,
   "id": "b1d2426c",
   "metadata": {},
   "outputs": [],
   "source": [
    "# Get topological order of products so we can calculate demands correctly\n",
    "\n",
    "def get_topological_order(recipes: dict[str, Recipe], target: str, raw_materials=set()) -> list[str]:\n",
    "    \"\"\"Get a topological ordering of products via DFS.\"\"\"\n",
    "    visited = set()\n",
    "    topo_order = []\n",
    "\n",
    "    def dfs(product: str):\n",
    "        if product in visited:\n",
    "            return\n",
    "        visited.add(product)\n",
    "        recipe = recipes.get(product)\n",
    "        is_raw_material = product in raw_materials or recipe is None\n",
    "        if not is_raw_material:\n",
    "            for ing in recipe.ingredients:\n",
    "                dfs(ing)\n",
    "        topo_order.append(product)\n",
    "\n",
    "    dfs(target)\n",
    "    return topo_order"
   ]
  },
  {
   "cell_type": "code",
   "execution_count": 97,
   "id": "a22caf53",
   "metadata": {},
   "outputs": [],
   "source": [
    "def build_blueprint_graph(recipes: dict[str, Recipe], target: str, target_demand: float=2.5, raw_materials=set()):\n",
    "    \"\"\"Build a graph where edges show how many machines and items are required.\"\"\"\n",
    "    # Get topological ordering of nodes via DFS\n",
    "    topo_order = get_topological_order(recipes, target, raw_materials)\n",
    "\n",
    "    # compute item demand and machine counts\n",
    "    target_recipe = recipes[target]\n",
    "    item_demands = defaultdict(float, {target: target_demand})\n",
    "    machine_counts = defaultdict(float, {target: target_demand / target_recipe.result_amount * target_recipe.time_per_cycle})\n",
    "    edges: list[tuple[str, str, float, float]] = []\n",
    "    for product in reversed(topo_order):\n",
    "        recipe = recipes.get(product)\n",
    "        if product in raw_materials or recipe is None:\n",
    "            continue  # raw material, no inputs\n",
    "        for ing in recipe.ingredients:\n",
    "            item_demand_edge = machine_counts[product] * recipe.ingredients[ing] / recipe.time_per_cycle\n",
    "            item_demands[ing] += item_demand_edge\n",
    "            machine_count_edge = 0.0\n",
    "            ing_recipe = recipes.get(ing)\n",
    "            if ing_recipe:\n",
    "                machine_count_edge = item_demand_edge / ing_recipe.result_amount * ing_recipe.time_per_cycle\n",
    "            machine_counts[ing] += machine_count_edge\n",
    "            edges.append((ing, product, machine_count_edge, item_demand_edge))\n",
    "\n",
    "    # Build graphviz graph\n",
    "    dot = Digraph()\n",
    "\n",
    "    with tempfile.TemporaryDirectory() as tmpdir:\n",
    "        # Nodes\n",
    "        for product in topo_order:\n",
    "            recipe = recipes.get(product)\n",
    "            icon_path = create_product_image(\n",
    "                product=product,\n",
    "                machine=recipe.machine if recipe else None,\n",
    "                production_rate=item_demands[product],\n",
    "                machine_count=machine_counts.get(product, 0.0),\n",
    "                save_dir=Path(tmpdir),\n",
    "            )\n",
    "            \n",
    "            if icon_path is not None and Path(icon_path).exists():\n",
    "                dot.node(\n",
    "                    product,\n",
    "                    label=\"\",\n",
    "                    image=str(icon_path),\n",
    "                    shape=\"none\",\n",
    "                    imagescale=\"true\"\n",
    "                )\n",
    "            else:\n",
    "                dot.node(product, label=f\"{product} - {item_demands[product]:.3g}/s - {machine_counts.get(product, 0.0):.3g} machines\")\n",
    "\n",
    "        # Edges\n",
    "        for ing, product, _machine_count, item_demand in edges:\n",
    "            label = f\" {item_demand:.3g}/s\"\n",
    "            dot.edge(ing, product, label=label)\n",
    "        dot.render(str(OUTPUT_DIR_PATH / target), format=\"png\", cleanup=True)\n",
    "\n",
    "for product in [\"engine-unit\", \"automation-science-pack\", \"logistic-science-pack\", \"chemical-science-pack\", \"military-science-pack\", \"production-science-pack\", \"utility-science-pack\", \"rocket-part\", \"satellite\", \"spidertron\", \"electronic-circuit\", \"advanced-circuit\", \"processing-unit\"]:\n",
    "    build_blueprint_graph(recipes, product)\n"
   ]
  },
  {
   "cell_type": "code",
   "execution_count": null,
   "id": "3d98c667",
   "metadata": {},
   "outputs": [],
   "source": []
  }
 ],
 "metadata": {
  "kernelspec": {
   "display_name": ".venv",
   "language": "python",
   "name": "python3"
  },
  "language_info": {
   "codemirror_mode": {
    "name": "ipython",
    "version": 3
   },
   "file_extension": ".py",
   "mimetype": "text/x-python",
   "name": "python",
   "nbconvert_exporter": "python",
   "pygments_lexer": "ipython3",
   "version": "3.12.3"
  }
 },
 "nbformat": 4,
 "nbformat_minor": 5
}
